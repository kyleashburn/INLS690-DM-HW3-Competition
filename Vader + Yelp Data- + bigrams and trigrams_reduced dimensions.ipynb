{
 "cells": [
  {
   "cell_type": "code",
   "execution_count": 1,
   "id": "9168633c",
   "metadata": {},
   "outputs": [],
   "source": [
    "import time\n",
    "start_time = time.time()"
   ]
  },
  {
   "cell_type": "code",
   "execution_count": 24,
   "id": "d4eb2ab8",
   "metadata": {},
   "outputs": [
    {
     "name": "stderr",
     "output_type": "stream",
     "text": [
      "[nltk_data] Downloading package vader_lexicon to\n",
      "[nltk_data]     C:\\Users\\ashbu\\AppData\\Roaming\\nltk_data...\n",
      "[nltk_data]   Package vader_lexicon is already up-to-date!\n"
     ]
    },
    {
     "data": {
      "text/plain": [
       "True"
      ]
     },
     "execution_count": 24,
     "metadata": {},
     "output_type": "execute_result"
    }
   ],
   "source": [
    "import scipy\n",
    "from scipy.sparse import hstack, coo_matrix\n",
    "import sklearn\n",
    "import json\n",
    "import numpy as np\n",
    "from sklearn.linear_model import LogisticRegression\n",
    "from sklearn.metrics import accuracy_score \n",
    "from sklearn.feature_extraction.text import TfidfVectorizer, CountVectorizer\n",
    "from sklearn.naive_bayes import BernoulliNB\n",
    "from sklearn.tree import DecisionTreeClassifier\n",
    "from collections import Counter\n",
    "from sklearn.feature_selection import SelectKBest\n",
    "from sklearn.feature_selection import chi2\n",
    "import nltk\n",
    "import pandas as pd\n",
    "nltk.download('vader_lexicon')"
   ]
  },
  {
   "cell_type": "code",
   "execution_count": 3,
   "id": "af7d9aa9",
   "metadata": {},
   "outputs": [],
   "source": [
    "# helper function: write out prediction values into a csv format file\n",
    "# params:\n",
    "#     df: dataframe, where each row is a test example, with column 'id' as data id\n",
    "#     pred: a list or 1-d array of prediction values\n",
    "#     filepath: the output file path\n",
    "# return:\n",
    "#     None\n",
    "\n",
    "def write_test_prediction(df, pred, filepath):\n",
    "    with open(filepath, 'w') as outfile:\n",
    "        outfile.write('{},{}\\n'.format('id', 'label'))\n",
    "        for index, row in df.iterrows():\n",
    "            outfile.write('{},{}\\n'.format(row['id'], pred[index]))\n",
    "    print (len(df), 'predictions are written to', filepath)"
   ]
  },
  {
   "cell_type": "code",
   "execution_count": 4,
   "id": "8b03fda7",
   "metadata": {},
   "outputs": [],
   "source": [
    "dataframe = pd.read_csv('./train.tsv', sep = '\\t')"
   ]
  },
  {
   "cell_type": "code",
   "execution_count": 5,
   "id": "8e5c3276",
   "metadata": {},
   "outputs": [],
   "source": [
    "yelp_data = pd.read_csv('./extra data/yelp_prepped.tsv', sep = '\\t', header=None)"
   ]
  },
  {
   "cell_type": "code",
   "execution_count": 6,
   "id": "d1904943",
   "metadata": {},
   "outputs": [],
   "source": [
    "yelp_data.rename(columns={0: \"label\",1: \"review\"}, inplace=True)"
   ]
  },
  {
   "cell_type": "code",
   "execution_count": 7,
   "id": "080ece7b",
   "metadata": {},
   "outputs": [],
   "source": [
    "data_combined = dataframe.append(yelp_data)"
   ]
  },
  {
   "cell_type": "code",
   "execution_count": 8,
   "id": "f107afd7",
   "metadata": {},
   "outputs": [],
   "source": [
    "from nltk.sentiment.vader import SentimentIntensityAnalyzer\n",
    "analyzer = SentimentIntensityAnalyzer()"
   ]
  },
  {
   "cell_type": "code",
   "execution_count": 9,
   "id": "5046918b",
   "metadata": {},
   "outputs": [
    {
     "name": "stdout",
     "output_type": "stream",
     "text": [
      "Wall time: 31 s\n"
     ]
    }
   ],
   "source": [
    "%%time\n",
    "data_combined[\"rating\"] = data_combined[\"review\"].apply(analyzer.polarity_scores)"
   ]
  },
  {
   "cell_type": "code",
   "execution_count": 10,
   "id": "24225375",
   "metadata": {},
   "outputs": [],
   "source": [
    "data_combined = pd.concat([data_combined.drop(['rating'], axis=1), data_combined['rating'].apply(pd.Series)], axis=1)"
   ]
  },
  {
   "cell_type": "code",
   "execution_count": 11,
   "id": "03a74f5a",
   "metadata": {},
   "outputs": [
    {
     "name": "stdout",
     "output_type": "stream",
     "text": [
      "training set size: 30828\n",
      "validation set size: 4979\n"
     ]
    }
   ],
   "source": [
    "train_ratio = 0.8 # 80% for training, 20% for validation\n",
    "random_seed = 100\n",
    "\n",
    "train_dataframe = data_combined.sample(frac=train_ratio, random_state=random_seed)\n",
    "valid_dataframe = data_combined.drop(train_dataframe.index)\n",
    "print('training set size:', len(train_dataframe))\n",
    "print('validation set size:', len(valid_dataframe))"
   ]
  },
  {
   "cell_type": "code",
   "execution_count": 12,
   "id": "d737e462",
   "metadata": {},
   "outputs": [],
   "source": [
    "# reading in the test dataframe\n",
    "test_dataframe = pd.read_csv('./test.tsv', sep = '\\t')"
   ]
  },
  {
   "cell_type": "code",
   "execution_count": 13,
   "id": "0b4fec98",
   "metadata": {},
   "outputs": [
    {
     "name": "stdout",
     "output_type": "stream",
     "text": [
      "Wall time: 5.33 s\n"
     ]
    }
   ],
   "source": [
    "%%time\n",
    "# runnign Vader on the test_dataframe\n",
    "test_dataframe[\"rating\"] = test_dataframe[\"review\"].apply(analyzer.polarity_scores)\n",
    "test_dataframe = pd.concat([test_dataframe.drop(['rating'], axis=1), test_dataframe['rating'].apply(pd.Series)], axis=1)"
   ]
  },
  {
   "cell_type": "code",
   "execution_count": 14,
   "id": "78f189b1",
   "metadata": {},
   "outputs": [
    {
     "data": {
      "text/plain": [
       "TfidfVectorizer(ngram_range=(1, 3), stop_words={'english'})"
      ]
     },
     "execution_count": 14,
     "metadata": {},
     "output_type": "execute_result"
    }
   ],
   "source": [
    "vectorizer = TfidfVectorizer(stop_words={\"english\"},ngram_range=(1,3))\n",
    "vectorizer.fit(train_dataframe[\"review\"])"
   ]
  },
  {
   "cell_type": "code",
   "execution_count": 15,
   "id": "2c0545ca",
   "metadata": {},
   "outputs": [
    {
     "name": "stdout",
     "output_type": "stream",
     "text": [
      "Wall time: 8.78 s\n"
     ]
    }
   ],
   "source": [
    "%%time\n",
    "train_X = vectorizer.transform(train_dataframe[\"review\"])\n",
    "valid_X = vectorizer.transform(valid_dataframe[\"review\"])\n"
   ]
  },
  {
   "cell_type": "code",
   "execution_count": 16,
   "id": "4f22ada3",
   "metadata": {},
   "outputs": [],
   "source": [
    "sparse_train = coo_matrix(train_dataframe[[\"neg\",\"neu\",\"pos\",\"compound\"]])\n",
    "sparse_valid = coo_matrix(valid_dataframe[[\"neg\",\"neu\",\"pos\",\"compound\"]])"
   ]
  },
  {
   "cell_type": "code",
   "execution_count": 17,
   "id": "7614f033",
   "metadata": {},
   "outputs": [],
   "source": [
    "# stacking the scores onto the sparse matrix\n",
    "train_X = hstack((sparse_train, train_X))\n",
    "valid_X =  hstack((sparse_valid, valid_X))"
   ]
  },
  {
   "cell_type": "code",
   "execution_count": 18,
   "id": "2f1f36bb",
   "metadata": {},
   "outputs": [],
   "source": [
    "# stacking test dataframe\n",
    "sparse_test = coo_matrix(test_dataframe[[\"neg\",\"neu\",\"pos\",\"compound\"]])\n",
    "test_X = vectorizer.transform(test_dataframe[\"review\"])\n",
    "test_X = hstack((sparse_test, test_X))"
   ]
  },
  {
   "cell_type": "code",
   "execution_count": 19,
   "id": "254e4a17",
   "metadata": {},
   "outputs": [
    {
     "data": {
      "text/plain": [
       "LogisticRegression(C=1, solver='liblinear')"
      ]
     },
     "execution_count": 19,
     "metadata": {},
     "output_type": "execute_result"
    }
   ],
   "source": [
    "train_Y = train_dataframe[\"label\"]\n",
    "model = LogisticRegression(C = 1, solver='liblinear')\n",
    "model.fit(train_X, train_Y)"
   ]
  },
  {
   "cell_type": "code",
   "execution_count": 20,
   "id": "5cada369",
   "metadata": {},
   "outputs": [
    {
     "name": "stdout",
     "output_type": "stream",
     "text": [
      "Logistic regression, accuracy on training set: 0.9215323731672506\n"
     ]
    }
   ],
   "source": [
    "train_Y_hat = model.predict(train_X)\n",
    "accuracy = accuracy_score(train_dataframe[\"label\"], train_Y_hat)\n",
    "print ('Logistic regression, accuracy on training set:', accuracy)"
   ]
  },
  {
   "cell_type": "code",
   "execution_count": 21,
   "id": "9f6e006b",
   "metadata": {
    "scrolled": true
   },
   "outputs": [
    {
     "name": "stdout",
     "output_type": "stream",
     "text": [
      "Logistic regression, accuracy on validation set: 0.8656356698132155\n"
     ]
    }
   ],
   "source": [
    "valid_Y_hat = model.predict(valid_X)\n",
    "accuracy = accuracy_score(valid_dataframe[\"label\"], valid_Y_hat)\n",
    "print ('Logistic regression, accuracy on validation set:', accuracy)"
   ]
  },
  {
   "cell_type": "code",
   "execution_count": 22,
   "id": "acc257df",
   "metadata": {},
   "outputs": [
    {
     "name": "stdout",
     "output_type": "stream",
     "text": [
      "77.50906372070312\n"
     ]
    }
   ],
   "source": [
    "end_time = time.time()\n",
    "\n",
    "run_time = end_time - start_time\n",
    "\n",
    "print(run_time)"
   ]
  },
  {
   "cell_type": "code",
   "execution_count": 33,
   "id": "c8fcfd45",
   "metadata": {},
   "outputs": [
    {
     "name": "stdout",
     "output_type": "stream",
     "text": [
      "Logistic regression, accuracy on validation set: 0.8678449487848966\n"
     ]
    }
   ],
   "source": [
    "# transforming by choosing the best features in the feature set\n",
    "selector = SelectKBest(k=100000)\n",
    "x_new = selector.fit_transform(train_X, train_Y)\n",
    "\n",
    "x_new_valid = selector.transform(valid_X)\n",
    "\n",
    "model.fit(x_new,train_Y)\n",
    "valid_Y_hat = model.predict(x_new_valid)\n",
    "accuracy = accuracy_score(valid_dataframe[\"label\"], valid_Y_hat)\n",
    "print ('Logistic regression, accuracy on validation set:', accuracy)\n"
   ]
  },
  {
   "cell_type": "markdown",
   "id": "66583958",
   "metadata": {},
   "source": [
    "Tuning the k"
   ]
  },
  {
   "cell_type": "code",
   "execution_count": 35,
   "id": "f6d8f9cc",
   "metadata": {},
   "outputs": [],
   "source": [
    "k_list = np.arange(1000, train_X.shape[1],10000)\n",
    "k_dict = {}"
   ]
  },
  {
   "cell_type": "code",
   "execution_count": 37,
   "id": "cfb65aff",
   "metadata": {},
   "outputs": [
    {
     "name": "stdout",
     "output_type": "stream",
     "text": [
      "Wall time: 23min 47s\n"
     ]
    }
   ],
   "source": [
    "%%time\n",
    "for i in k_list:\n",
    "    selector = SelectKBest( k=i)\n",
    "    x_new = selector.fit_transform(train_X, train_Y)\n",
    "    x_new_valid = selector.transform(valid_X)\n",
    "\n",
    "    model.fit(x_new,train_Y)\n",
    "    valid_Y_hat = model.predict(x_new_valid)\n",
    "    accuracy = accuracy_score(valid_dataframe[\"label\"], valid_Y_hat)\n",
    "    k_dict.setdefault(i, accuracy)\n"
   ]
  },
  {
   "cell_type": "code",
   "execution_count": 38,
   "id": "79d18f25",
   "metadata": {},
   "outputs": [
    {
     "data": {
      "text/plain": [
       "{161000: 0.8694516971279374,\n",
       " 231000: 0.8692508535850573,\n",
       " 251000: 0.8692508535850573,\n",
       " 261000: 0.8692508535850573,\n",
       " 301000: 0.8692508535850573,\n",
       " 321000: 0.8692508535850573,\n",
       " 151000: 0.8690500100421772,\n",
       " 171000: 0.8690500100421772,\n",
       " 181000: 0.8690500100421772,\n",
       " 191000: 0.8690500100421772,\n",
       " 201000: 0.8690500100421772,\n",
       " 241000: 0.8690500100421772,\n",
       " 281000: 0.8690500100421772,\n",
       " 311000: 0.8690500100421772,\n",
       " 331000: 0.8690500100421772,\n",
       " 221000: 0.868849166499297,\n",
       " 291000: 0.868849166499297,\n",
       " 341000: 0.868849166499297,\n",
       " 351000: 0.868849166499297,\n",
       " 361000: 0.868849166499297,\n",
       " 371000: 0.868849166499297,\n",
       " 381000: 0.868849166499297,\n",
       " 391000: 0.868849166499297,\n",
       " 401000: 0.868849166499297,\n",
       " 421000: 0.868849166499297,\n",
       " 211000: 0.8686483229564169,\n",
       " 271000: 0.8686483229564169,\n",
       " 411000: 0.8686483229564169,\n",
       " 431000: 0.8686483229564169,\n",
       " 41000: 0.8684474794135368,\n",
       " 141000: 0.8684474794135368,\n",
       " 441000: 0.8684474794135368,\n",
       " 451000: 0.8684474794135368,\n",
       " 461000: 0.8684474794135368,\n",
       " 471000: 0.8684474794135368,\n",
       " 641000: 0.8684474794135368,\n",
       " 661000: 0.8684474794135368,\n",
       " 51000: 0.8682466358706568,\n",
       " 481000: 0.8682466358706568,\n",
       " 491000: 0.8682466358706568,\n",
       " 501000: 0.8682466358706568,\n",
       " 511000: 0.8682466358706568,\n",
       " 621000: 0.8682466358706568,\n",
       " 631000: 0.8682466358706568,\n",
       " 651000: 0.8682466358706568,\n",
       " 671000: 0.8682466358706568,\n",
       " 701000: 0.8682466358706568,\n",
       " 731000: 0.8682466358706568,\n",
       " 741000: 0.8682466358706568,\n",
       " 751000: 0.8682466358706568,\n",
       " 61000: 0.8680457923277767,\n",
       " 91000: 0.8680457923277767,\n",
       " 101000: 0.8680457923277767,\n",
       " 521000: 0.8680457923277767,\n",
       " 541000: 0.8680457923277767,\n",
       " 551000: 0.8680457923277767,\n",
       " 611000: 0.8680457923277767,\n",
       " 681000: 0.8680457923277767,\n",
       " 691000: 0.8680457923277767,\n",
       " 711000: 0.8680457923277767,\n",
       " 721000: 0.8680457923277767,\n",
       " 71000: 0.8678449487848966,\n",
       " 81000: 0.8678449487848966,\n",
       " 531000: 0.8678449487848966,\n",
       " 561000: 0.8678449487848966,\n",
       " 571000: 0.8678449487848966,\n",
       " 581000: 0.8678449487848966,\n",
       " 591000: 0.8678449487848966,\n",
       " 601000: 0.8678449487848966,\n",
       " 761000: 0.8678449487848966,\n",
       " 771000: 0.8678449487848966,\n",
       " 781000: 0.8678449487848966,\n",
       " 971000: 0.8678449487848966,\n",
       " 981000: 0.8678449487848966,\n",
       " 21000: 0.8676441052420165,\n",
       " 31000: 0.8676441052420165,\n",
       " 791000: 0.8676441052420165,\n",
       " 821000: 0.8676441052420165,\n",
       " 831000: 0.8676441052420165,\n",
       " 841000: 0.8676441052420165,\n",
       " 851000: 0.8676441052420165,\n",
       " 921000: 0.8676441052420165,\n",
       " 931000: 0.8676441052420165,\n",
       " 941000: 0.8676441052420165,\n",
       " 951000: 0.8676441052420165,\n",
       " 961000: 0.8676441052420165,\n",
       " 991000: 0.8676441052420165,\n",
       " 1001000: 0.8676441052420165,\n",
       " 1011000: 0.8676441052420165,\n",
       " 1021000: 0.8676441052420165,\n",
       " 1031000: 0.8676441052420165,\n",
       " 1041000: 0.8676441052420165,\n",
       " 1051000: 0.8676441052420165,\n",
       " 121000: 0.8674432616991363,\n",
       " 131000: 0.8674432616991363,\n",
       " 801000: 0.8674432616991363,\n",
       " 811000: 0.8674432616991363,\n",
       " 861000: 0.8674432616991363,\n",
       " 871000: 0.8674432616991363,\n",
       " 881000: 0.8674432616991363,\n",
       " 891000: 0.8674432616991363,\n",
       " 901000: 0.8674432616991363,\n",
       " 911000: 0.8674432616991363,\n",
       " 1061000: 0.8674432616991363,\n",
       " 1071000: 0.8674432616991363,\n",
       " 1081000: 0.8674432616991363,\n",
       " 1091000: 0.8674432616991363,\n",
       " 1101000: 0.8674432616991363,\n",
       " 111000: 0.8672424181562562,\n",
       " 11000: 0.8670415746133762,\n",
       " 1111000: 0.8670415746133762,\n",
       " 1121000: 0.866639887527616,\n",
       " 1131000: 0.866639887527616,\n",
       " 1141000: 0.866639887527616,\n",
       " 1151000: 0.866639887527616,\n",
       " 1161000: 0.8664390439847359,\n",
       " 1181000: 0.8664390439847359,\n",
       " 1191000: 0.8664390439847359,\n",
       " 1171000: 0.8662382004418558,\n",
       " 2581000: 0.8660373568989757,\n",
       " 2701000: 0.8660373568989757,\n",
       " 1201000: 0.8658365133560956,\n",
       " 2351000: 0.8658365133560956,\n",
       " 2471000: 0.8658365133560956,\n",
       " 2481000: 0.8658365133560956,\n",
       " 1471000: 0.8656356698132155,\n",
       " 1481000: 0.8656356698132155,\n",
       " 2361000: 0.8656356698132155,\n",
       " 2381000: 0.8656356698132155,\n",
       " 2391000: 0.8656356698132155,\n",
       " 2411000: 0.8656356698132155,\n",
       " 2421000: 0.8656356698132155,\n",
       " 2431000: 0.8656356698132155,\n",
       " 2441000: 0.8656356698132155,\n",
       " 2451000: 0.8656356698132155,\n",
       " 2461000: 0.8656356698132155,\n",
       " 2491000: 0.8656356698132155,\n",
       " 2501000: 0.8656356698132155,\n",
       " 2511000: 0.8656356698132155,\n",
       " 2521000: 0.8656356698132155,\n",
       " 2541000: 0.8656356698132155,\n",
       " 2571000: 0.8656356698132155,\n",
       " 2621000: 0.8656356698132155,\n",
       " 1461000: 0.8654348262703354,\n",
       " 1491000: 0.8654348262703354,\n",
       " 1621000: 0.8654348262703354,\n",
       " 1641000: 0.8654348262703354,\n",
       " 2051000: 0.8654348262703354,\n",
       " 2061000: 0.8654348262703354,\n",
       " 2071000: 0.8654348262703354,\n",
       " 2081000: 0.8654348262703354,\n",
       " 2301000: 0.8654348262703354,\n",
       " 2311000: 0.8654348262703354,\n",
       " 2321000: 0.8654348262703354,\n",
       " 2331000: 0.8654348262703354,\n",
       " 2341000: 0.8654348262703354,\n",
       " 2371000: 0.8654348262703354,\n",
       " 2401000: 0.8654348262703354,\n",
       " 2531000: 0.8654348262703354,\n",
       " 2551000: 0.8654348262703354,\n",
       " 2561000: 0.8654348262703354,\n",
       " 2601000: 0.8654348262703354,\n",
       " 2611000: 0.8654348262703354,\n",
       " 2711000: 0.8654348262703354,\n",
       " 1231000: 0.8652339827274553,\n",
       " 1241000: 0.8652339827274553,\n",
       " 1251000: 0.8652339827274553,\n",
       " 1261000: 0.8652339827274553,\n",
       " 1271000: 0.8652339827274553,\n",
       " 1281000: 0.8652339827274553,\n",
       " 1291000: 0.8652339827274553,\n",
       " 1301000: 0.8652339827274553,\n",
       " 1391000: 0.8652339827274553,\n",
       " 1401000: 0.8652339827274553,\n",
       " 1411000: 0.8652339827274553,\n",
       " 1421000: 0.8652339827274553,\n",
       " 1431000: 0.8652339827274553,\n",
       " 1441000: 0.8652339827274553,\n",
       " 1451000: 0.8652339827274553,\n",
       " 1611000: 0.8652339827274553,\n",
       " 1631000: 0.8652339827274553,\n",
       " 1651000: 0.8652339827274553,\n",
       " 1661000: 0.8652339827274553,\n",
       " 1671000: 0.8652339827274553,\n",
       " 2021000: 0.8652339827274553,\n",
       " 2031000: 0.8652339827274553,\n",
       " 2131000: 0.8652339827274553,\n",
       " 2141000: 0.8652339827274553,\n",
       " 2151000: 0.8652339827274553,\n",
       " 2161000: 0.8652339827274553,\n",
       " 2171000: 0.8652339827274553,\n",
       " 2181000: 0.8652339827274553,\n",
       " 2191000: 0.8652339827274553,\n",
       " 2201000: 0.8652339827274553,\n",
       " 2211000: 0.8652339827274553,\n",
       " 2221000: 0.8652339827274553,\n",
       " 2231000: 0.8652339827274553,\n",
       " 2241000: 0.8652339827274553,\n",
       " 2251000: 0.8652339827274553,\n",
       " 2261000: 0.8652339827274553,\n",
       " 2271000: 0.8652339827274553,\n",
       " 2281000: 0.8652339827274553,\n",
       " 2631000: 0.8652339827274553,\n",
       " 1311000: 0.8650331391845753,\n",
       " 1321000: 0.8650331391845753,\n",
       " 1331000: 0.8650331391845753,\n",
       " 1341000: 0.8650331391845753,\n",
       " 1351000: 0.8650331391845753,\n",
       " 1361000: 0.8650331391845753,\n",
       " 1371000: 0.8650331391845753,\n",
       " 1381000: 0.8650331391845753,\n",
       " 1501000: 0.8650331391845753,\n",
       " 1511000: 0.8650331391845753,\n",
       " 1581000: 0.8650331391845753,\n",
       " 1591000: 0.8650331391845753,\n",
       " 1601000: 0.8650331391845753,\n",
       " 1681000: 0.8650331391845753,\n",
       " 1971000: 0.8650331391845753,\n",
       " 1981000: 0.8650331391845753,\n",
       " 1991000: 0.8650331391845753,\n",
       " 2011000: 0.8650331391845753,\n",
       " 2041000: 0.8650331391845753,\n",
       " 2121000: 0.8650331391845753,\n",
       " 2291000: 0.8650331391845753,\n",
       " 2591000: 0.8650331391845753,\n",
       " 2641000: 0.8650331391845753,\n",
       " 1221000: 0.8648322956416952,\n",
       " 1521000: 0.8648322956416952,\n",
       " 1531000: 0.8648322956416952,\n",
       " 1541000: 0.8648322956416952,\n",
       " 1551000: 0.8648322956416952,\n",
       " 1561000: 0.8648322956416952,\n",
       " 1571000: 0.8648322956416952,\n",
       " 1691000: 0.8648322956416952,\n",
       " 1701000: 0.8648322956416952,\n",
       " 1711000: 0.8648322956416952,\n",
       " 1721000: 0.8648322956416952,\n",
       " 1731000: 0.8648322956416952,\n",
       " 1741000: 0.8648322956416952,\n",
       " 1751000: 0.8648322956416952,\n",
       " 1761000: 0.8648322956416952,\n",
       " 1821000: 0.8648322956416952,\n",
       " 1831000: 0.8648322956416952,\n",
       " 1851000: 0.8648322956416952,\n",
       " 1861000: 0.8648322956416952,\n",
       " 1871000: 0.8648322956416952,\n",
       " 1891000: 0.8648322956416952,\n",
       " 1901000: 0.8648322956416952,\n",
       " 1951000: 0.8648322956416952,\n",
       " 1961000: 0.8648322956416952,\n",
       " 2001000: 0.8648322956416952,\n",
       " 2091000: 0.8648322956416952,\n",
       " 2101000: 0.8648322956416952,\n",
       " 2111000: 0.8648322956416952,\n",
       " 2651000: 0.8648322956416952,\n",
       " 2661000: 0.8648322956416952,\n",
       " 2691000: 0.8648322956416952,\n",
       " 1211000: 0.864631452098815,\n",
       " 1771000: 0.864631452098815,\n",
       " 1781000: 0.864631452098815,\n",
       " 1841000: 0.864631452098815,\n",
       " 1881000: 0.864631452098815,\n",
       " 1911000: 0.864631452098815,\n",
       " 2681000: 0.864631452098815,\n",
       " 1791000: 0.8644306085559349,\n",
       " 1801000: 0.8644306085559349,\n",
       " 1811000: 0.8644306085559349,\n",
       " 1921000: 0.8644306085559349,\n",
       " 1931000: 0.8644306085559349,\n",
       " 1941000: 0.8644306085559349,\n",
       " 2671000: 0.8642297650130548,\n",
       " 1000: 0.852179152440249}"
      ]
     },
     "execution_count": 38,
     "metadata": {},
     "output_type": "execute_result"
    }
   ],
   "source": [
    "dict(sorted(k_dict.items(), key=lambda item: item[1], reverse=True))"
   ]
  },
  {
   "cell_type": "code",
   "execution_count": null,
   "id": "cb4da308",
   "metadata": {},
   "outputs": [],
   "source": []
  },
  {
   "cell_type": "code",
   "execution_count": 25,
   "id": "bc31d80d",
   "metadata": {},
   "outputs": [
    {
     "name": "stdout",
     "output_type": "stream",
     "text": [
      "Wall time: 2.64 s\n"
     ]
    }
   ],
   "source": [
    "%%time\n",
    "all_train_Y = data_combined['label']\n",
    "all_train_X = vectorizer.transform(data_combined['review'])\n",
    "all_train_sparse = coo_matrix(data_combined[[\"neg\",\"neu\",\"pos\",\"compound\"]])\n",
    "all_train_X = hstack((all_train_sparse, all_train_X))"
   ]
  },
  {
   "cell_type": "code",
   "execution_count": null,
   "id": "78b22181",
   "metadata": {},
   "outputs": [],
   "source": []
  },
  {
   "cell_type": "code",
   "execution_count": null,
   "id": "98a6c12d",
   "metadata": {},
   "outputs": [],
   "source": []
  },
  {
   "cell_type": "code",
   "execution_count": null,
   "id": "e3a1b154",
   "metadata": {},
   "outputs": [],
   "source": []
  },
  {
   "cell_type": "code",
   "execution_count": 26,
   "id": "0ba386d7",
   "metadata": {},
   "outputs": [
    {
     "name": "stdout",
     "output_type": "stream",
     "text": [
      "6000 predictions are written to ./logistic_regression_vader_yelp.csv\n"
     ]
    }
   ],
   "source": [
    "model.fit(all_train_X, all_train_Y)\n",
    "test_Y_hat = model.predict(test_X)\n",
    "write_test_prediction(test_dataframe, test_Y_hat, './logistic_regression_vader_yelp.csv')"
   ]
  },
  {
   "cell_type": "code",
   "execution_count": null,
   "id": "45c14491",
   "metadata": {},
   "outputs": [],
   "source": []
  }
 ],
 "metadata": {
  "kernelspec": {
   "display_name": "Python 3",
   "language": "python",
   "name": "python3"
  },
  "language_info": {
   "codemirror_mode": {
    "name": "ipython",
    "version": 3
   },
   "file_extension": ".py",
   "mimetype": "text/x-python",
   "name": "python",
   "nbconvert_exporter": "python",
   "pygments_lexer": "ipython3",
   "version": "3.8.8"
  }
 },
 "nbformat": 4,
 "nbformat_minor": 5
}
