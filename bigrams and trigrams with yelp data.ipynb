{
 "cells": [
  {
   "cell_type": "code",
   "execution_count": 1,
   "id": "589233ef",
   "metadata": {},
   "outputs": [],
   "source": [
    "import scipy\n",
    "import sklearn\n",
    "import json\n",
    "import pandas as pd\n",
    "import numpy as np\n",
    "from sklearn.linear_model import LogisticRegression\n",
    "from sklearn.metrics import accuracy_score \n",
    "from sklearn.feature_extraction.text import TfidfVectorizer, CountVectorizer\n",
    "from collections import Counter"
   ]
  },
  {
   "cell_type": "code",
   "execution_count": 3,
   "id": "2d1deef8",
   "metadata": {},
   "outputs": [],
   "source": [
    "# helper function: write out prediction values into a csv format file\n",
    "# params:\n",
    "#     df: dataframe, where each row is a test example, with column 'id' as data id\n",
    "#     pred: a list or 1-d array of prediction values\n",
    "#     filepath: the output file path\n",
    "# return:\n",
    "#     None\n",
    "\n",
    "def write_test_prediction(df, pred, filepath):\n",
    "    with open(filepath, 'w') as outfile:\n",
    "        outfile.write('{},{}\\n'.format('id', 'label'))\n",
    "        for index, row in df.iterrows():\n",
    "            outfile.write('{},{}\\n'.format(row['id'], pred[index]))\n",
    "    print (len(df), 'predictions are written to', filepath)"
   ]
  },
  {
   "cell_type": "code",
   "execution_count": 2,
   "id": "683ce362",
   "metadata": {},
   "outputs": [],
   "source": [
    "dataframe = pd.read_csv('./train.tsv', sep = '\\t')"
   ]
  },
  {
   "cell_type": "code",
   "execution_count": 4,
   "id": "8c5462a3",
   "metadata": {},
   "outputs": [],
   "source": [
    "yelp_data = pd.read_csv('./extra data/yelp_prepped.tsv', sep = '\\t', header=None)"
   ]
  },
  {
   "cell_type": "code",
   "execution_count": 5,
   "id": "dae15c3c",
   "metadata": {},
   "outputs": [],
   "source": [
    "yelp_data.rename(columns={0: \"label\",1: \"review\"}, inplace=True)"
   ]
  },
  {
   "cell_type": "code",
   "execution_count": 6,
   "id": "60a95b9a",
   "metadata": {},
   "outputs": [],
   "source": [
    "data_combined = dataframe.append(yelp_data)"
   ]
  },
  {
   "cell_type": "code",
   "execution_count": 7,
   "id": "3b4ac956",
   "metadata": {},
   "outputs": [
    {
     "name": "stdout",
     "output_type": "stream",
     "text": [
      "training set size: 30828\n",
      "validation set size: 4979\n"
     ]
    }
   ],
   "source": [
    "train_ratio = 0.8 # 80% for training, 20% for validation\n",
    "random_seed = 100\n",
    "\n",
    "train_dataframe = data_combined.sample(frac=train_ratio, random_state=random_seed)\n",
    "valid_dataframe = data_combined.drop(train_dataframe.index)\n",
    "print('training set size:', len(train_dataframe))\n",
    "print('validation set size:', len(valid_dataframe))"
   ]
  },
  {
   "cell_type": "code",
   "execution_count": 8,
   "id": "044e714b",
   "metadata": {},
   "outputs": [],
   "source": [
    "test_dataframe = pd.read_csv('./test.tsv', sep = '\\t')"
   ]
  },
  {
   "cell_type": "code",
   "execution_count": 9,
   "id": "35713f7d",
   "metadata": {},
   "outputs": [
    {
     "data": {
      "text/plain": [
       "TfidfVectorizer(ngram_range=(1, 3), stop_words={'english'})"
      ]
     },
     "execution_count": 9,
     "metadata": {},
     "output_type": "execute_result"
    }
   ],
   "source": [
    "# switching to bigram and trigrams along with the default stopwords\n",
    "vectorizer = TfidfVectorizer(stop_words={\"english\"}, ngram_range=(1,3))\n",
    "vectorizer.fit(train_dataframe[\"review\"])"
   ]
  },
  {
   "cell_type": "code",
   "execution_count": 10,
   "id": "bdc18515",
   "metadata": {},
   "outputs": [],
   "source": [
    "train_X = vectorizer.transform(train_dataframe[\"review\"])\n",
    "valid_X = vectorizer.transform(valid_dataframe[\"review\"])\n"
   ]
  },
  {
   "cell_type": "code",
   "execution_count": 11,
   "id": "0543936a",
   "metadata": {},
   "outputs": [],
   "source": [
    "test_X = vectorizer.transform(test_dataframe[\"review\"])\n"
   ]
  },
  {
   "cell_type": "code",
   "execution_count": 12,
   "id": "615a5e56",
   "metadata": {},
   "outputs": [
    {
     "data": {
      "text/plain": [
       "LogisticRegression(C=1, solver='liblinear')"
      ]
     },
     "execution_count": 12,
     "metadata": {},
     "output_type": "execute_result"
    }
   ],
   "source": [
    "train_Y = train_dataframe[\"label\"]\n",
    "model = LogisticRegression(C = 1, solver='liblinear')\n",
    "model.fit(train_X, train_Y)"
   ]
  },
  {
   "cell_type": "code",
   "execution_count": 13,
   "id": "1ee19967",
   "metadata": {},
   "outputs": [
    {
     "name": "stdout",
     "output_type": "stream",
     "text": [
      "Logistic regression, accuracy on training set: 0.9636369534189698\n"
     ]
    }
   ],
   "source": [
    "train_Y_hat = model.predict(train_X)\n",
    "accuracy = accuracy_score(train_dataframe[\"label\"], train_Y_hat)\n",
    "print ('Logistic regression, accuracy on training set:', accuracy)"
   ]
  },
  {
   "cell_type": "code",
   "execution_count": 18,
   "id": "16f2652b",
   "metadata": {},
   "outputs": [
    {
     "name": "stdout",
     "output_type": "stream",
     "text": [
      "Logistic regression, accuracy on validation set: 0.8837115886724242\n"
     ]
    }
   ],
   "source": [
    "valid_Y_hat = model.predict(valid_X)\n",
    "accuracy = accuracy_score(valid_dataframe['label'], valid_Y_hat)\n",
    "print ('Logistic regression, accuracy on validation set:', accuracy)"
   ]
  },
  {
   "cell_type": "code",
   "execution_count": 15,
   "id": "10b1e96e",
   "metadata": {},
   "outputs": [],
   "source": []
  }
 ],
 "metadata": {
  "kernelspec": {
   "display_name": "Python 3",
   "language": "python",
   "name": "python3"
  },
  "language_info": {
   "codemirror_mode": {
    "name": "ipython",
    "version": 3
   },
   "file_extension": ".py",
   "mimetype": "text/x-python",
   "name": "python",
   "nbconvert_exporter": "python",
   "pygments_lexer": "ipython3",
   "version": "3.8.8"
  }
 },
 "nbformat": 4,
 "nbformat_minor": 5
}
